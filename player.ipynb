{
 "cells": [
  {
   "cell_type": "code",
   "execution_count": 1,
   "metadata": {},
   "outputs": [],
   "source": [
    "import chess\n",
    "import chessdotcom\n",
    "import numpy\n",
    "import math\n",
    "import doctest\n",
    "import bot\n",
    "\n",
    "board = chess.Board()\n",
    "\n",
    "while not board.is_stalemate() or not board.is_checkmate():\n",
    "    x = input()\n",
    "    board.push(chess.Move.from_uci(input()))\n",
    "    print(board)\n",
    "\n",
    "if __name__ == \"__main__\":\n",
    "    doctest.testmod()"
   ]
  }
 ],
 "metadata": {
  "kernelspec": {
   "display_name": "Python 3",
   "language": "python",
   "name": "python3"
  },
  "language_info": {
   "codemirror_mode": {
    "name": "ipython",
    "version": 3
   },
   "file_extension": ".py",
   "mimetype": "text/x-python",
   "name": "python",
   "nbconvert_exporter": "python",
   "pygments_lexer": "ipython3",
   "version": "3.10.11"
  },
  "orig_nbformat": 4
 },
 "nbformat": 4,
 "nbformat_minor": 2
}
